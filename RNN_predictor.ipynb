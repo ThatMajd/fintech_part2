{
 "cells": [
  {
   "cell_type": "markdown",
   "metadata": {},
   "source": [
    "### RNN Prediction Model"
   ]
  },
  {
   "cell_type": "code",
   "execution_count": 1,
   "metadata": {},
   "outputs": [],
   "source": [
    "import pandas as pd\n",
    "import numpy as np\n",
    "import torch\n",
    "import torch.nn as nn\n",
    "import torch.optim as optim\n",
    "from sklearn.model_selection import train_test_split\n",
    "from sklearn.preprocessing import MinMaxScaler\n",
    "from torch.utils.data import DataLoader, TensorDataset"
   ]
  },
  {
   "cell_type": "code",
   "execution_count": 2,
   "metadata": {},
   "outputs": [
    {
     "name": "stdout",
     "output_type": "stream",
     "text": [
      "Features: ['S&P500_Close', 'Crude Oil_Close', 'Silver_Close', 'Natural Gas_Close', 'NYSE Composite_Close', 'Chinese Yuan_Close', 'Candian Dollar_Close', 'Euro_Close', 'VIX_Close', 'Interest Rate 10y_Close', 'Interest Rate 30y_Close', 'Gold_Close']\n",
      "S&P500_Close               0\n",
      "Crude Oil_Close            0\n",
      "Silver_Close               0\n",
      "Natural Gas_Close          0\n",
      "NYSE Composite_Close       0\n",
      "Chinese Yuan_Close         0\n",
      "Candian Dollar_Close       0\n",
      "Euro_Close                 0\n",
      "VIX_Close                  0\n",
      "Interest Rate 10y_Close    0\n",
      "Interest Rate 30y_Close    0\n",
      "Gold_Close                 0\n",
      "dtype: int64\n"
     ]
    }
   ],
   "source": [
    "# Load the dataset\n",
    "data_path = 'combined_ticks.csv'\n",
    "df = pd.read_csv(data_path)\n",
    "df.drop(columns=['Unnamed: 0','Iron_Close'], inplace=True)\n",
    "\n",
    "# Fill null values with the average of previous and next rows\n",
    "df.fillna((df.shift() + df.shift(-1)) / 2, inplace=True)\n",
    "\n",
    "# List all features\n",
    "features = df.columns.tolist()\n",
    "print(\"Features:\", features)\n",
    "\n",
    "# Assume 'Gold_Close' is the target variable\n",
    "target = 'Gold_Close'\n",
    "X = df.drop(columns=[target]).values\n",
    "y = df[target].values\n",
    "\n",
    "# Normalize the features\n",
    "scaler = MinMaxScaler()\n",
    "X = scaler.fit_transform(X)\n",
    "\n",
    "# Train-test split\n",
    "X_train, X_test, y_train, y_test = train_test_split(X, y, test_size=0.2, random_state=42)\n",
    "\n",
    "print(df.isnull().sum())"
   ]
  },
  {
   "cell_type": "code",
   "execution_count": 3,
   "metadata": {},
   "outputs": [],
   "source": [
    "# Convert to PyTorch tensors\n",
    "X_train_tensor = torch.tensor(X_train, dtype=torch.float32).unsqueeze(1)\n",
    "X_test_tensor = torch.tensor(X_test, dtype=torch.float32).unsqueeze(1)\n",
    "y_train_tensor = torch.tensor(y_train, dtype=torch.float32).unsqueeze(1)\n",
    "y_test_tensor = torch.tensor(y_test, dtype=torch.float32).unsqueeze(1)\n",
    "\n",
    "# Create a DataLoader for batch processing\n",
    "batch_size = 64\n",
    "train_dataset = TensorDataset(X_train_tensor, y_train_tensor)\n",
    "train_loader = DataLoader(dataset=train_dataset, batch_size=batch_size, shuffle=True)\n"
   ]
  },
  {
   "cell_type": "code",
   "execution_count": 4,
   "metadata": {},
   "outputs": [],
   "source": [
    "# Define the GRU model (replaces the RNN)\n",
    "class GRUModel(nn.Module):\n",
    "    def __init__(self, input_size, hidden_size, num_layers, output_size):\n",
    "        super(GRUModel, self).__init__()\n",
    "        self.gru = nn.GRU(input_size, hidden_size, num_layers, batch_first=True)\n",
    "        self.fc = nn.Linear(hidden_size, output_size)\n",
    "        self.num_layers = num_layers\n",
    "        self.hidden_size = hidden_size\n",
    "        \n",
    "    def forward(self, x):\n",
    "        h0 = torch.zeros(self.num_layers, x.size(0), self.hidden_size).to(x.device)\n",
    "        out, _ = self.gru(x, h0)\n",
    "        out = self.fc(out[:, -1, :])\n",
    "        return out"
   ]
  },
  {
   "cell_type": "code",
   "execution_count": 9,
   "metadata": {},
   "outputs": [],
   "source": [
    "# Hyperparameters\n",
    "input_size = X_train.shape[1]\n",
    "hidden_size = 32  # Reduced hidden size for faster training\n",
    "num_layers = 2\n",
    "output_size = 1\n",
    "learning_rate = 0.001\n",
    "num_epochs = 1000"
   ]
  },
  {
   "cell_type": "code",
   "execution_count": 10,
   "metadata": {},
   "outputs": [],
   "source": [
    "# Model, loss function, and optimizer\n",
    "model = GRUModel(input_size, hidden_size, num_layers, output_size)\n",
    "criterion = nn.MSELoss()\n",
    "optimizer = optim.Adam(model.parameters(), lr=learning_rate)"
   ]
  },
  {
   "cell_type": "code",
   "execution_count": 11,
   "metadata": {},
   "outputs": [
    {
     "name": "stdout",
     "output_type": "stream",
     "text": [
      "Epoch [10/1000], Loss: 2234935.2500\n",
      "Epoch [20/1000], Loss: 2371289.7500\n",
      "Epoch [30/1000], Loss: 2487553.0000\n",
      "Epoch [40/1000], Loss: 2204820.2500\n",
      "Epoch [50/1000], Loss: 2665964.7500\n",
      "Epoch [60/1000], Loss: 2260763.2500\n",
      "Epoch [70/1000], Loss: 2263360.7500\n",
      "Epoch [80/1000], Loss: 2233677.5000\n",
      "Epoch [90/1000], Loss: 2010586.5000\n",
      "Epoch [100/1000], Loss: 2013828.0000\n",
      "Epoch [110/1000], Loss: 1954649.1250\n",
      "Epoch [120/1000], Loss: 1891309.3750\n",
      "Epoch [130/1000], Loss: 1984965.5000\n",
      "Epoch [140/1000], Loss: 1948747.3750\n",
      "Epoch [150/1000], Loss: 1788617.0000\n",
      "Epoch [160/1000], Loss: 1709181.0000\n",
      "Epoch [170/1000], Loss: 1608931.6250\n",
      "Epoch [180/1000], Loss: 1501138.3750\n",
      "Epoch [190/1000], Loss: 1973523.3750\n",
      "Epoch [200/1000], Loss: 1411477.6250\n",
      "Epoch [210/1000], Loss: 1699370.0000\n",
      "Epoch [220/1000], Loss: 1377452.7500\n",
      "Epoch [230/1000], Loss: 1556647.2500\n",
      "Epoch [240/1000], Loss: 1553925.2500\n",
      "Epoch [250/1000], Loss: 1384946.8750\n",
      "Epoch [260/1000], Loss: 1478721.7500\n",
      "Epoch [270/1000], Loss: 1247602.2500\n",
      "Epoch [280/1000], Loss: 1226408.2500\n",
      "Epoch [290/1000], Loss: 1343816.5000\n",
      "Epoch [300/1000], Loss: 1394071.7500\n",
      "Epoch [310/1000], Loss: 1078217.5000\n",
      "Epoch [320/1000], Loss: 1139024.2500\n",
      "Epoch [330/1000], Loss: 1170635.5000\n",
      "Epoch [340/1000], Loss: 1169428.5000\n",
      "Epoch [350/1000], Loss: 1135820.2500\n",
      "Epoch [360/1000], Loss: 1132992.7500\n",
      "Epoch [370/1000], Loss: 919649.4375\n",
      "Epoch [380/1000], Loss: 1026616.5625\n",
      "Epoch [390/1000], Loss: 955413.7500\n",
      "Epoch [400/1000], Loss: 981292.8750\n",
      "Epoch [410/1000], Loss: 1128314.1250\n",
      "Epoch [420/1000], Loss: 979041.2500\n",
      "Epoch [430/1000], Loss: 870589.7500\n",
      "Epoch [440/1000], Loss: 911275.2500\n",
      "Epoch [450/1000], Loss: 854173.6250\n",
      "Epoch [460/1000], Loss: 909861.4375\n",
      "Epoch [470/1000], Loss: 758800.9375\n",
      "Epoch [480/1000], Loss: 785567.1250\n",
      "Epoch [490/1000], Loss: 938333.8750\n",
      "Epoch [500/1000], Loss: 747646.4375\n",
      "Epoch [510/1000], Loss: 725538.7500\n",
      "Epoch [520/1000], Loss: 673871.8750\n",
      "Epoch [530/1000], Loss: 669607.1875\n",
      "Epoch [540/1000], Loss: 755273.1250\n",
      "Epoch [550/1000], Loss: 714262.6875\n",
      "Epoch [560/1000], Loss: 582643.4375\n",
      "Epoch [570/1000], Loss: 602497.0000\n",
      "Epoch [580/1000], Loss: 575496.0000\n",
      "Epoch [590/1000], Loss: 631826.8750\n",
      "Epoch [600/1000], Loss: 655368.1875\n",
      "Epoch [610/1000], Loss: 532600.6875\n",
      "Epoch [620/1000], Loss: 499435.3750\n",
      "Epoch [630/1000], Loss: 393121.8750\n",
      "Epoch [640/1000], Loss: 543181.2500\n",
      "Epoch [650/1000], Loss: 583687.0000\n",
      "Epoch [660/1000], Loss: 531092.7500\n",
      "Epoch [670/1000], Loss: 458918.1250\n",
      "Epoch [680/1000], Loss: 403885.9375\n",
      "Epoch [690/1000], Loss: 499265.5625\n",
      "Epoch [700/1000], Loss: 333639.4062\n",
      "Epoch [710/1000], Loss: 366160.8750\n",
      "Epoch [720/1000], Loss: 405290.3750\n",
      "Epoch [730/1000], Loss: 282008.3750\n",
      "Epoch [740/1000], Loss: 242098.8594\n",
      "Epoch [750/1000], Loss: 257070.5781\n",
      "Epoch [760/1000], Loss: 421774.4375\n",
      "Epoch [770/1000], Loss: 323439.6250\n",
      "Epoch [780/1000], Loss: 372832.9062\n",
      "Epoch [790/1000], Loss: 245356.0000\n",
      "Epoch [800/1000], Loss: 215899.8594\n",
      "Epoch [810/1000], Loss: 288220.8125\n",
      "Epoch [820/1000], Loss: 243695.1719\n",
      "Epoch [830/1000], Loss: 280121.5000\n",
      "Epoch [840/1000], Loss: 269644.7812\n",
      "Epoch [850/1000], Loss: 210985.1094\n",
      "Epoch [860/1000], Loss: 246613.3906\n",
      "Epoch [870/1000], Loss: 144982.9531\n",
      "Epoch [880/1000], Loss: 142063.6094\n",
      "Epoch [890/1000], Loss: 225711.5156\n",
      "Epoch [900/1000], Loss: 185516.8125\n",
      "Epoch [910/1000], Loss: 143980.3125\n",
      "Epoch [920/1000], Loss: 142300.0469\n",
      "Epoch [930/1000], Loss: 150297.6875\n",
      "Epoch [940/1000], Loss: 164234.3594\n",
      "Epoch [950/1000], Loss: 148570.4062\n",
      "Epoch [960/1000], Loss: 110616.7031\n",
      "Epoch [970/1000], Loss: 78533.6797\n",
      "Epoch [980/1000], Loss: 92650.3516\n",
      "Epoch [990/1000], Loss: 137840.8906\n",
      "Epoch [1000/1000], Loss: 108589.9141\n"
     ]
    }
   ],
   "source": [
    "# Training loop with batch processing\n",
    "for epoch in range(num_epochs):\n",
    "    model.train()\n",
    "    for batch_X, batch_y in train_loader:\n",
    "        optimizer.zero_grad()\n",
    "        outputs = model(batch_X)\n",
    "        loss = criterion(outputs, batch_y)\n",
    "        loss.backward()\n",
    "        optimizer.step()\n",
    "    \n",
    "    if (epoch+1) % 10 == 0:\n",
    "        print(f'Epoch [{epoch+1}/{num_epochs}], Loss: {loss.item():.4f}')"
   ]
  },
  {
   "cell_type": "code",
   "execution_count": 12,
   "metadata": {},
   "outputs": [
    {
     "name": "stdout",
     "output_type": "stream",
     "text": [
      "Test Loss: 121783.2422\n"
     ]
    }
   ],
   "source": [
    "# Evaluate the model\n",
    "model.eval()\n",
    "with torch.no_grad():\n",
    "    predictions = model(X_test_tensor)\n",
    "    test_loss = criterion(predictions, y_test_tensor)\n",
    "    print(f'Test Loss: {test_loss.item():.4f}')"
   ]
  },
  {
   "cell_type": "code",
   "execution_count": null,
   "metadata": {},
   "outputs": [],
   "source": []
  }
 ],
 "metadata": {
  "kernelspec": {
   "display_name": "base",
   "language": "python",
   "name": "python3"
  },
  "language_info": {
   "codemirror_mode": {
    "name": "ipython",
    "version": 3
   },
   "file_extension": ".py",
   "mimetype": "text/x-python",
   "name": "python",
   "nbconvert_exporter": "python",
   "pygments_lexer": "ipython3",
   "version": "3.12.4"
  }
 },
 "nbformat": 4,
 "nbformat_minor": 2
}
