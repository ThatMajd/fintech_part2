{
 "cells": [
  {
   "cell_type": "markdown",
   "metadata": {},
   "source": [
    "## Data Preparation Check"
   ]
  },
  {
   "cell_type": "markdown",
   "metadata": {},
   "source": [
    "## Introduction\n",
    "In this notebook, we will:\n",
    "- Ensure the time index is properly formatted and continuous\n",
    "- Check for stationarity and apply transformations if needed (for SARIMAX)\n",
    "- Identify and handle missing values and outliers\n",
    "- Confirm that we have sufficient historical data and an appropriate frequency\n",
    "- Show that the prepared data is suitable for SARIMAX and Prophet modeling"
   ]
  },
  {
   "cell_type": "code",
   "execution_count": null,
   "metadata": {},
   "outputs": [],
   "source": [
    "# Imports\n",
    "import pandas as pd\n",
    "import numpy as np\n",
    "import matplotlib.pyplot as plt\n",
    "import seaborn as sns\n",
    "from statsmodels.tsa.stattools import adfuller\n",
    "import warnings\n",
    "warnings.filterwarnings('ignore')"
   ]
  },
  {
   "cell_type": "code",
   "execution_count": 2,
   "metadata": {},
   "outputs": [
    {
     "data": {
      "text/html": [
       "<div>\n",
       "<style scoped>\n",
       "    .dataframe tbody tr th:only-of-type {\n",
       "        vertical-align: middle;\n",
       "    }\n",
       "\n",
       "    .dataframe tbody tr th {\n",
       "        vertical-align: top;\n",
       "    }\n",
       "\n",
       "    .dataframe thead th {\n",
       "        text-align: right;\n",
       "    }\n",
       "</style>\n",
       "<table border=\"1\" class=\"dataframe\">\n",
       "  <thead>\n",
       "    <tr style=\"text-align: right;\">\n",
       "      <th></th>\n",
       "      <th>Unnamed: 0</th>\n",
       "      <th>ds</th>\n",
       "      <th>S&amp;P500_Close</th>\n",
       "      <th>Crude Oil_Close</th>\n",
       "      <th>Silver_Close</th>\n",
       "      <th>Iron_Close</th>\n",
       "      <th>Natural Gas_Close</th>\n",
       "      <th>NYSE Composite_Close</th>\n",
       "      <th>Chinese Yuan_Close</th>\n",
       "      <th>Candian Dollar_Close</th>\n",
       "      <th>Euro_Close</th>\n",
       "      <th>VIX_Close</th>\n",
       "      <th>Interest Rate 10y_Close</th>\n",
       "      <th>Interest Rate 30y_Close</th>\n",
       "      <th>y</th>\n",
       "    </tr>\n",
       "  </thead>\n",
       "  <tbody>\n",
       "    <tr>\n",
       "      <th>0</th>\n",
       "      <td>0</td>\n",
       "      <td>2015-03-09</td>\n",
       "      <td>1173.810059</td>\n",
       "      <td>82.690002</td>\n",
       "      <td>24.417000</td>\n",
       "      <td>148.789993</td>\n",
       "      <td>3.657</td>\n",
       "      <td>7546.589844</td>\n",
       "      <td>0.150240</td>\n",
       "      <td>0.996910</td>\n",
       "      <td>1.396726</td>\n",
       "      <td>19.879999</td>\n",
       "      <td>2.495</td>\n",
       "      <td>3.898</td>\n",
       "      <td>1376.699951</td>\n",
       "    </tr>\n",
       "    <tr>\n",
       "      <th>1</th>\n",
       "      <td>1</td>\n",
       "      <td>2015-03-10</td>\n",
       "      <td>1176.189941</td>\n",
       "      <td>81.250000</td>\n",
       "      <td>24.271999</td>\n",
       "      <td>146.000000</td>\n",
       "      <td>3.535</td>\n",
       "      <td>7520.600098</td>\n",
       "      <td>0.150525</td>\n",
       "      <td>0.995718</td>\n",
       "      <td>1.407202</td>\n",
       "      <td>19.030001</td>\n",
       "      <td>2.576</td>\n",
       "      <td>3.999</td>\n",
       "      <td>1371.099976</td>\n",
       "    </tr>\n",
       "    <tr>\n",
       "      <th>2</th>\n",
       "      <td>2</td>\n",
       "      <td>2015-03-11</td>\n",
       "      <td>1184.709961</td>\n",
       "      <td>83.080002</td>\n",
       "      <td>24.396999</td>\n",
       "      <td>143.070007</td>\n",
       "      <td>3.431</td>\n",
       "      <td>7571.100098</td>\n",
       "      <td>0.150807</td>\n",
       "      <td>0.987264</td>\n",
       "      <td>1.396433</td>\n",
       "      <td>19.090000</td>\n",
       "      <td>2.491</td>\n",
       "      <td>3.927</td>\n",
       "      <td>1371.199951</td>\n",
       "    </tr>\n",
       "    <tr>\n",
       "      <th>3</th>\n",
       "      <td>3</td>\n",
       "      <td>2015-03-12</td>\n",
       "      <td>1165.900024</td>\n",
       "      <td>79.489998</td>\n",
       "      <td>23.764000</td>\n",
       "      <td>140.919998</td>\n",
       "      <td>3.513</td>\n",
       "      <td>7423.649902</td>\n",
       "      <td>0.150734</td>\n",
       "      <td>0.983158</td>\n",
       "      <td>1.393592</td>\n",
       "      <td>20.629999</td>\n",
       "      <td>2.475</td>\n",
       "      <td>3.902</td>\n",
       "      <td>1335.099976</td>\n",
       "    </tr>\n",
       "    <tr>\n",
       "      <th>4</th>\n",
       "      <td>4</td>\n",
       "      <td>2015-03-13</td>\n",
       "      <td>1178.170044</td>\n",
       "      <td>81.769997</td>\n",
       "      <td>23.848000</td>\n",
       "      <td>142.880005</td>\n",
       "      <td>3.539</td>\n",
       "      <td>7523.810059</td>\n",
       "      <td>0.150725</td>\n",
       "      <td>0.968054</td>\n",
       "      <td>1.373909</td>\n",
       "      <td>19.790001</td>\n",
       "      <td>2.470</td>\n",
       "      <td>3.888</td>\n",
       "      <td>1343.300049</td>\n",
       "    </tr>\n",
       "  </tbody>\n",
       "</table>\n",
       "</div>"
      ],
      "text/plain": [
       "   Unnamed: 0         ds  S&P500_Close  Crude Oil_Close  Silver_Close  \\\n",
       "0           0 2015-03-09   1173.810059        82.690002     24.417000   \n",
       "1           1 2015-03-10   1176.189941        81.250000     24.271999   \n",
       "2           2 2015-03-11   1184.709961        83.080002     24.396999   \n",
       "3           3 2015-03-12   1165.900024        79.489998     23.764000   \n",
       "4           4 2015-03-13   1178.170044        81.769997     23.848000   \n",
       "\n",
       "   Iron_Close  Natural Gas_Close  NYSE Composite_Close  Chinese Yuan_Close  \\\n",
       "0  148.789993              3.657           7546.589844            0.150240   \n",
       "1  146.000000              3.535           7520.600098            0.150525   \n",
       "2  143.070007              3.431           7571.100098            0.150807   \n",
       "3  140.919998              3.513           7423.649902            0.150734   \n",
       "4  142.880005              3.539           7523.810059            0.150725   \n",
       "\n",
       "   Candian Dollar_Close  Euro_Close  VIX_Close  Interest Rate 10y_Close  \\\n",
       "0              0.996910    1.396726  19.879999                    2.495   \n",
       "1              0.995718    1.407202  19.030001                    2.576   \n",
       "2              0.987264    1.396433  19.090000                    2.491   \n",
       "3              0.983158    1.393592  20.629999                    2.475   \n",
       "4              0.968054    1.373909  19.790001                    2.470   \n",
       "\n",
       "   Interest Rate 30y_Close            y  \n",
       "0                    3.898  1376.699951  \n",
       "1                    3.999  1371.099976  \n",
       "2                    3.927  1371.199951  \n",
       "3                    3.902  1335.099976  \n",
       "4                    3.888  1343.300049  "
      ]
     },
     "execution_count": 2,
     "metadata": {},
     "output_type": "execute_result"
    }
   ],
   "source": [
    "data_path = \"data//combined_for_ts.csv\"\n",
    "df = pd.read_csv(data_path)\n",
    "df['ds'] = pd.to_datetime(df['ds'])\n",
    "df.head()"
   ]
  },
  {
   "cell_type": "code",
   "execution_count": 3,
   "metadata": {},
   "outputs": [
    {
     "name": "stdout",
     "output_type": "stream",
     "text": [
      "Number of unique dates: 3560\n",
      "Number of rows: 3560\n",
      "Any duplicates?: False\n",
      "\n",
      "Date differences:\n",
      " diff\n",
      "1 days    3559\n",
      "Name: count, dtype: int64\n",
      "\n",
      "After resampling to daily frequency:\n",
      "          ds  Unnamed: 0  S&P500_Close  Crude Oil_Close  Silver_Close  \\\n",
      "0 2015-03-09           0   1173.810059        82.690002     24.417000   \n",
      "1 2015-03-10           1   1176.189941        81.250000     24.271999   \n",
      "2 2015-03-11           2   1184.709961        83.080002     24.396999   \n",
      "3 2015-03-12           3   1165.900024        79.489998     23.764000   \n",
      "4 2015-03-13           4   1178.170044        81.769997     23.848000   \n",
      "5 2015-03-14           5   1180.260010        80.559998     23.122999   \n",
      "6 2015-03-15           6   1183.079956        81.690002     23.125000   \n",
      "7 2015-03-16           7   1185.619995        82.519997     23.544001   \n",
      "8 2015-03-17           8   1185.640015        82.550003     23.823999   \n",
      "9 2015-03-18           9   1182.449951        81.940002     23.398001   \n",
      "\n",
      "   Iron_Close  Natural Gas_Close  NYSE Composite_Close  Chinese Yuan_Close  \\\n",
      "0  148.789993              3.657           7546.589844            0.150240   \n",
      "1  146.000000              3.535           7520.600098            0.150525   \n",
      "2  143.070007              3.431           7571.100098            0.150807   \n",
      "3  140.919998              3.513           7423.649902            0.150734   \n",
      "4  142.880005              3.539           7523.810059            0.150725   \n",
      "5  143.289993              3.368           7515.669922            0.150591   \n",
      "6  143.919998              3.332           7522.910156            0.150630   \n",
      "7  145.000000              3.317           7546.379883            0.150399   \n",
      "8  145.130005              3.354           7530.799805            0.150417   \n",
      "9  144.500000              3.292           7480.870117            0.150342   \n",
      "\n",
      "   Candian Dollar_Close  Euro_Close  VIX_Close  Interest Rate 10y_Close  \\\n",
      "0              0.996910    1.396726  19.879999                    2.495   \n",
      "1              0.995718    1.407202  19.030001                    2.576   \n",
      "2              0.987264    1.396433  19.090000                    2.491   \n",
      "3              0.983158    1.393592  20.629999                    2.475   \n",
      "4              0.968054    1.373909  19.790001                    2.470   \n",
      "5              0.978186    1.396317  19.270000                    2.531   \n",
      "6              0.974754    1.391692  18.780001                    2.563   \n",
      "7              0.973994    1.394408  19.850000                    2.554   \n",
      "8              0.980969    1.394895  20.219999                    2.636   \n",
      "9              0.976944    1.385425  20.709999                    2.712   \n",
      "\n",
      "   Interest Rate 30y_Close            y   diff  \n",
      "0                    3.898  1376.699951    NaT  \n",
      "1                    3.999  1371.099976 1 days  \n",
      "2                    3.927  1371.199951 1 days  \n",
      "3                    3.902  1335.099976 1 days  \n",
      "4                    3.888  1343.300049 1 days  \n",
      "5                    3.940  1324.699951 1 days  \n",
      "6                    3.937  1324.400024 1 days  \n",
      "7                    3.907  1338.300049 1 days  \n",
      "8                    3.994  1338.000000 1 days  \n",
      "9                    4.041  1322.199951 1 days  \n"
     ]
    }
   ],
   "source": [
    "# Check the Time Index\n",
    "# Check if there are any duplicates or irregularities in the date column\n",
    "print(\"Number of unique dates:\", df['ds'].nunique())\n",
    "print(\"Number of rows:\", len(df))\n",
    "print(\"Any duplicates?:\", df['ds'].duplicated().any())\n",
    "\n",
    "# Check the frequency by looking at differences\n",
    "df['diff'] = df['ds'].diff()\n",
    "print(\"\\nDate differences:\\n\", df['diff'].value_counts())\n",
    "\n",
    "# If it's not a regular frequency, we might consider resampling to a consistent frequency.\n",
    "# For example, if we want daily frequency:\n",
    "df = df.set_index('ds')\n",
    "df = df.asfreq('D')  # This will introduce NaNs on days with no data\n",
    "df = df.reset_index(drop=False)\n",
    "\n",
    "print(\"\\nAfter resampling to daily frequency:\")\n",
    "print(df.head(10))\n"
   ]
  },
  {
   "cell_type": "code",
   "execution_count": 4,
   "metadata": {},
   "outputs": [
    {
     "name": "stdout",
     "output_type": "stream",
     "text": [
      "Missing values after resampling:\n",
      " ds                         0\n",
      "Unnamed: 0                 0\n",
      "S&P500_Close               0\n",
      "Crude Oil_Close            0\n",
      "Silver_Close               0\n",
      "Iron_Close                 0\n",
      "Natural Gas_Close          0\n",
      "NYSE Composite_Close       0\n",
      "Chinese Yuan_Close         0\n",
      "Candian Dollar_Close       0\n",
      "Euro_Close                 0\n",
      "VIX_Close                  0\n",
      "Interest Rate 10y_Close    0\n",
      "Interest Rate 30y_Close    0\n",
      "y                          0\n",
      "diff                       1\n",
      "dtype: int64\n",
      "\n",
      "Missing values after filling:\n",
      " ds                         0\n",
      "Unnamed: 0                 0\n",
      "S&P500_Close               0\n",
      "Crude Oil_Close            0\n",
      "Silver_Close               0\n",
      "Iron_Close                 0\n",
      "Natural Gas_Close          0\n",
      "NYSE Composite_Close       0\n",
      "Chinese Yuan_Close         0\n",
      "Candian Dollar_Close       0\n",
      "Euro_Close                 0\n",
      "VIX_Close                  0\n",
      "Interest Rate 10y_Close    0\n",
      "Interest Rate 30y_Close    0\n",
      "y                          0\n",
      "diff                       1\n",
      "dtype: int64\n"
     ]
    }
   ],
   "source": [
    "# Handle Missing Values\n",
    "# Check how many missing values we have now\n",
    "missing_counts = df.isna().sum()\n",
    "print(\"Missing values after resampling:\\n\", missing_counts)\n",
    "\n",
    "# If there are missing 'y' values due to non-trading days, we can forward fill or interpolate:\n",
    "df['y'] = df['y'].ffill()  # or df['y'].interpolate()\n",
    "\n",
    "print(\"\\nMissing values after filling:\\n\", df.isna().sum())\n"
   ]
  },
  {
   "cell_type": "code",
   "execution_count": 5,
   "metadata": {},
   "outputs": [
    {
     "data": {
      "image/png": "[encoded data removed]",
      "text/plain": [
       "<Figure size 1000x400 with 1 Axes>"
      ]
     },
     "metadata": {},
     "output_type": "display_data"
    },
    {
     "name": "stdout",
     "output_type": "stream",
     "text": [
      "Total observations: 3560\n",
      "Number of unique years of data: 10\n"
     ]
    }
   ],
   "source": [
    "# Check for Sufficient Historical Data and Appropriate Frequency\n",
    "# Plot the entire series to visually inspect it\n",
    "plt.figure(figsize=(10,4))\n",
    "plt.plot(df['ds'], df['y'])\n",
    "plt.title(\"Time Series Overview\")\n",
    "plt.xlabel(\"Date\")\n",
    "plt.ylabel(\"Value\")\n",
    "plt.show()\n",
    "\n",
    "# Check how many observations we have:\n",
    "print(\"Total observations:\", len(df))\n",
    "\n",
    "# If we suspect yearly seasonality and we have daily data:\n",
    "# Ideally, we want at least one full year of data:\n",
    "unique_years = df['ds'].dt.year.nunique()\n",
    "print(\"Number of unique years of data:\", unique_years)\n"
   ]
  },
  {
   "cell_type": "code",
   "execution_count": 7,
   "metadata": {},
   "outputs": [
    {
     "data": {
      "image/png": "[encoded data removed]",
      "text/plain": [
       "<Figure size 640x480 with 1 Axes>"
      ]
     },
     "metadata": {},
     "output_type": "display_data"
    }
   ],
   "source": [
    "# ## Check for Outliers\n",
    "# Simple method: visualize and identify extreme values\n",
    "sns.boxplot(x=df['y'])\n",
    "plt.title(\"Distribution of Gold Futures values\")\n",
    "plt.show()\n",
    "\n",
    "# If extreme outliers are present, we could cap them or remove them:\n",
    "# For demonstration, let's say we cap at the 99th percentile:\n",
    "upper_bound = df['y'].quantile(0.99)\n",
    "df['y'] = np.where(df['y'] > upper_bound, upper_bound, df['y'])\n"
   ]
  },
  {
   "cell_type": "code",
   "execution_count": null,
   "metadata": {},
   "outputs": [
    {
     "name": "stdout",
     "output_type": "stream",
     "text": [
      "ADF Statistic: 0.44832694311209637\n",
      "p-value: 0.9832149658507094\n",
      "\n",
      "After differencing:\n",
      "ADF Statistic: -61.4316210155838\n",
      "p-value: 0.0\n"
     ]
    }
   ],
   "source": [
    "# ## Stationarity Checks (For SARIMA)\n",
    "# The Augmented Dickey-Fuller (ADF) test to check for stationarity:\n",
    "result = adfuller(df['y'].dropna())\n",
    "print('ADF Statistic:', result[0])\n",
    "print('p-value:', result[1])\n",
    "\n",
    "# If the series is not stationary (high p-value), consider differencing or transforming:\n",
    "if result[1] > 0.05:\n",
    "    # For demonstration, we'll difference the data once:\n",
    "    df['y_diff'] = df['y'].diff()\n",
    "    df['y_diff'] = df['y_diff'].ffill()  # Forward fill the first NA\n",
    "    diff_result = adfuller(df['y_diff'].dropna())\n",
    "    print('\\nAfter differencing:')\n",
    "    print('ADF Statistic:', diff_result[0])\n",
    "    print('p-value:', diff_result[1])"
   ]
  },
  {
   "cell_type": "markdown",
   "metadata": {},
   "source": [
    "The data seems to be non-stationary, thus, we're going to difference once in SARIMAX"
   ]
  },
  {
   "cell_type": "markdown",
   "metadata": {},
   "source": [
    "## Data Ready for Modeling\n",
    "At this point, we have:\n",
    "- A continuous daily series (ds)\n",
    "- Missing values handled\n",
    "- Possible stationarity achieved (if using SARIMA)\n",
    "- Outliers addressed\n",
    "- Sufficient data and known frequency"
   ]
  },
  {
   "cell_type": "code",
   "execution_count": 9,
   "metadata": {},
   "outputs": [
    {
     "name": "stdout",
     "output_type": "stream",
     "text": [
      "Data is ready for modeling with SARIMA and Prophet.\n",
      "          ds            y\n",
      "0 2015-03-09  1376.699951\n",
      "1 2015-03-10  1371.099976\n",
      "2 2015-03-11  1371.199951\n",
      "3 2015-03-12  1335.099976\n",
      "4 2015-03-13  1343.300049\n"
     ]
    }
   ],
   "source": [
    "# For Prophet:\n",
    "# - Prophet expects columns named 'ds' and 'y'.\n",
    "# Make sure these columns exist and are properly set:\n",
    "prophet_df = df[['ds', 'y']].copy()  # Prophet's base dataset\n",
    "\n",
    "# For SARIMA:\n",
    "# - Use either 'y' if stationary or differenced version 'y_diff'.\n",
    "# - We'll demonstrate just taking 'y' if stationary now.\n",
    "\n",
    "print(\"Data is ready for modeling with SARIMA and Prophet.\")\n",
    "print(prophet_df.head())"
   ]
  },
  {
   "cell_type": "markdown",
   "metadata": {},
   "source": [
    "## Summary\n",
    "We've ensured:\n",
    "- Proper datetime indexing and regular frequency\n",
    "- Missing values handled\n",
    "- Stationarity checked for SARIMA\n",
    "- Outliers mitigated\n",
    "- Sufficient historical data\n",
    "\n",
    "Next steps:\n",
    "- Implementing the models!"
   ]
  }
 ],
 "metadata": {
  "kernelspec": {
   "display_name": "base",
   "language": "python",
   "name": "python3"
  },
  "language_info": {
   "codemirror_mode": {
    "name": "ipython",
    "version": 3
   },
   "file_extension": ".py",
   "mimetype": "text/x-python",
   "name": "python",
   "nbconvert_exporter": "python",
   "pygments_lexer": "ipython3",
   "version": "3.12.7"
  }
 },
 "nbformat": 4,
 "nbformat_minor": 2
}
